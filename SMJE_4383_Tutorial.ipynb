{
  "nbformat": 4,
  "nbformat_minor": 0,
  "metadata": {
    "colab": {
      "name": "SMJE 4383 - Tutorial.ipynb",
      "provenance": [],
      "collapsed_sections": [],
      "authorship_tag": "ABX9TyN+kYK+/tFhP+/65eD5G/9r",
      "include_colab_link": true
    },
    "kernelspec": {
      "name": "python3",
      "display_name": "Python 3"
    }
  },
  "cells": [
    {
      "cell_type": "markdown",
      "metadata": {
        "id": "view-in-github",
        "colab_type": "text"
      },
      "source": [
        "<a href=\"https://colab.research.google.com/github/snamilah/SMJE-4383/blob/main/SMJE_4383_Tutorial.ipynb\" target=\"_parent\"><img src=\"https://colab.research.google.com/assets/colab-badge.svg\" alt=\"Open In Colab\"/></a>"
      ]
    },
    {
      "cell_type": "markdown",
      "metadata": {
        "id": "tc1HTzelBsF1"
      },
      "source": [
        "Import:\n",
        "\n",
        "Code for calculating the area and circumference of circle from its radius.\n",
        "Step 1: prompt for a radius.\n",
        "Step 2: apply the area formula\n",
        "Step 3: print out the results"
      ]
    },
    {
      "cell_type": "code",
      "metadata": {
        "id": "6Ta05QxWp_bB"
      },
      "source": [
        ""
      ],
      "execution_count": null,
      "outputs": []
    },
    {
      "cell_type": "code",
      "metadata": {
        "colab": {
          "base_uri": "https://localhost:8080/"
        },
        "id": "eNXfiH5DBBgV",
        "outputId": "e63a4289-0476-4e5f-8166-57b1170accd8"
      },
      "source": [
        "import math\n",
        "radius_str = input ('ENTER THE RADIUS OF YOUR CIRCLE: ')\n",
        "radius_int = int (radius_str)\n",
        "circumference = 2 * math.pi * radius_int\n",
        "area = math.pi * (radius_int ** 2)\n",
        "print(\"THE CIRCUMFERENCES IS:\",circumference,\", AND THE AREA IS:\",area)"
      ],
      "execution_count": 3,
      "outputs": [
        {
          "output_type": "stream",
          "text": [
            "ENTER THE RADIUS OF YOUR CIRCLE: 12\n",
            "THE CIRCUMFERENCES IS: 75.39822368615503 , AND THE AREA IS: 452.3893421169302\n"
          ],
          "name": "stdout"
        }
      ]
    },
    {
      "cell_type": "markdown",
      "metadata": {
        "id": "hN3x6SBMClII"
      },
      "source": [
        "Fat-burning"
      ]
    },
    {
      "cell_type": "code",
      "metadata": {
        "colab": {
          "base_uri": "https://localhost:8080/"
        },
        "id": "pGsCr8jJC6J4",
        "outputId": "c697e8d4-5bb1-4936-ef9b-9a5ded97b000"
      },
      "source": [
        "age = int(input('ENTER YOUR AGE IN YEARS: '))\n",
        "max_heart_rate = 206.9 - (0.67* age)\n",
        "target = 0.65 * max_heart_rate\n",
        "print('YOUR TARGET FAT-BURNING HEART RATE IS', target)"
      ],
      "execution_count": 4,
      "outputs": [
        {
          "output_type": "stream",
          "text": [
            "ENTER YOUR AGE IN YEARS: 22\n",
            "YOUR TARGET FAT-BURNING HEART RATE IS 124.904\n"
          ],
          "name": "stdout"
        }
      ]
    },
    {
      "cell_type": "markdown",
      "metadata": {
        "id": "tbwI3YcHDpHx"
      },
      "source": [
        "Developing an algorithm\n",
        "\n",
        "Example:\n",
        "\n",
        "if one inch of rain falls on acre of land, how many gallons of water have accumulated on the acre?\n",
        "\n",
        "Step 1: find the volume of water (in cubic ft)\n",
        "\n",
        "Step 2: convert the volume of gallons\n"
      ]
    },
    {
      "cell_type": "code",
      "metadata": {
        "colab": {
          "base_uri": "https://localhost:8080/"
        },
        "id": "BjyYJUFJf4fu",
        "outputId": "812086b9-47f8-46e5-937b-acc6a8ad5dbc"
      },
      "source": [
        "# Calculate rainfaall in gallons for some number of inches on 1 acre\n",
        "# using float\n",
        "\n",
        "inches_str = input(\"How many inches of rain have fallen:\")\n",
        "inches_float = float(inches_str)\n",
        "volume = (inches_float/12)* 43560\n",
        "gallons = volume * 7.48051945\n",
        "print (inches_float,\"in. rain on 1 acre \\\n",
        "is\", gallons, \"gallons\")"
      ],
      "execution_count": 14,
      "outputs": [
        {
          "output_type": "stream",
          "text": [
            "How many inches of rain have fallen:45\n",
            "45.0 in. rain on 1 acre is 1221942.8521575 gallons\n"
          ],
          "name": "stdout"
        }
      ]
    },
    {
      "cell_type": "code",
      "metadata": {
        "colab": {
          "base_uri": "https://localhost:8080/"
        },
        "id": "XNsnNZNwj0qo",
        "outputId": "f9215987-c18a-41b9-ed13-e8eeb80068d7"
      },
      "source": [
        "# Calculate rainfaall in gallons for some number of inches on 1 acre\n",
        "# using int\n",
        "\n",
        "inches_str = input(\"How many inches of rain have fallen:\")\n",
        "inches_int = int(inches_str)\n",
        "volume = (inches_int/12)* 43560\n",
        "gallons = volume * 7.48051945\n",
        "print (inches_int,\"in. rain on 1 acre \\\n",
        "is\", gallons, \"gallons\")"
      ],
      "execution_count": 15,
      "outputs": [
        {
          "output_type": "stream",
          "text": [
            "How many inches of rain have fallen:45\n",
            "45 in. rain on 1 acre is 1221942.8521575 gallons\n"
          ],
          "name": "stdout"
        }
      ]
    }
  ]
}